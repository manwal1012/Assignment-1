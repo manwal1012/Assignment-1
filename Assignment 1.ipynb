{
 "cells": [
  {
   "cell_type": "markdown",
   "metadata": {},
   "source": [
    "###### 1. Write a program which will find all the numbers which are divisible by 7 but are not a multiple of 5, between 2000 and 3200(both included).\n",
    "\n",
    "Solution"
   ]
  },
  {
   "cell_type": "code",
   "execution_count": null,
   "metadata": {},
   "outputs": [],
   "source": [
    "for i in range(2000,3201):\n",
    "    if(i%7 == 0 and i%5 != 0):\n",
    "        print(i, end =\",\")"
   ]
  },
  {
   "cell_type": "markdown",
   "metadata": {},
   "source": [
    "###### 2. Write a python program to accept the user's first and last name and then getting them printed in the reverse order with a space between the last name and first name.\n",
    "\n",
    "Solution"
   ]
  },
  {
   "cell_type": "code",
   "execution_count": null,
   "metadata": {},
   "outputs": [],
   "source": [
    "Fname = input(\"Please Enter Your First Name : \")\n",
    "Lname = input(\"Please Enter Your Last Name : \")\n",
    "\n",
    "FullName = Fname+\" \"+Lname\n",
    "\n",
    "Reversename = FullName[::-1]\n",
    "\n",
    "print(\"Name in Reverse Order : \",Reversename)"
   ]
  },
  {
   "cell_type": "markdown",
   "metadata": {},
   "source": [
    "###### 3. Write a python program to find the volume of a sphere with diameter 12 cm.\n",
    "\n",
    "Solution"
   ]
  },
  {
   "cell_type": "code",
   "execution_count": null,
   "metadata": {},
   "outputs": [],
   "source": [
    "d=12\n",
    "r=d/2\n",
    "\n",
    "Vol=4/3*3.14*(r*r*r)\n",
    "\n",
    "print(\" Volume of Sphere : \",Vol)"
   ]
  },
  {
   "cell_type": "code",
   "execution_count": null,
   "metadata": {},
   "outputs": [],
   "source": []
  }
 ],
 "metadata": {
  "kernelspec": {
   "display_name": "Python 3",
   "language": "python",
   "name": "python3"
  },
  "language_info": {
   "codemirror_mode": {
    "name": "ipython",
    "version": 3
   },
   "file_extension": ".py",
   "mimetype": "text/x-python",
   "name": "python",
   "nbconvert_exporter": "python",
   "pygments_lexer": "ipython3",
   "version": "3.7.1"
  }
 },
 "nbformat": 4,
 "nbformat_minor": 2
}
